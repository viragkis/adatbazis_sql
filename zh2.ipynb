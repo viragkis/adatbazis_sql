{
    "metadata": {
        "kernelspec": {
            "name": "SQL",
            "display_name": "SQL",
            "language": "sql"
        },
        "language_info": {
            "name": "sql",
            "version": ""
        }
    },
    "nbformat_minor": 2,
    "nbformat": 4,
    "cells": [
        {
            "cell_type": "markdown",
            "source": [
                "Készítsünk listát az egyes szálláshelyek átlagos csillagszámáról típus, illetve hely szerint csoportosítva (külön-külön)!\n",
                "\n",
                "- Az átlag 2 tizedesre kerekítve jelenjen meg\n",
                "- Hagyjuk ki azokat a szálláshelyeket, amelyek nevében kötőjel (-) van!"
            ],
            "metadata": {
                "azdata_cell_guid": "ee86466e-b725-42a5-a2cb-f6085160e684"
            },
            "attachments": {}
        },
        {
            "cell_type": "code",
            "source": [
                "SELECT *,\r\n",
                "    AVG(CSILLAGOK_SZAMA) OVER(PARTITION BY TIPUS) AS 'TÍPUS SZERINTI CSILLAG',\r\n",
                "    AVG(CSILLAGOK_SZAMA) OVER(PARTITION BY HELY) AS 'HELY SZERINTI CSILLAG'\r\n",
                "FROM Szallashely\r\n",
                "WHERE SZALLAS_NEV NOT LIKE '%-%'"
            ],
            "metadata": {
                "azdata_cell_guid": "e29ac08e-fa02-4da8-8252-b57e7c884c02",
                "language": "sql",
                "tags": []
            },
            "outputs": [
                {
                    "output_type": "error",
                    "evalue": "Msg 156, Level 15, State 1, Line 4\r\nIncorrect syntax near the keyword 'HAVING'.",
                    "ename": "",
                    "traceback": []
                },
                {
                    "output_type": "display_data",
                    "data": {
                        "text/html": "Total execution time: 00:00:00.001"
                    },
                    "metadata": {}
                }
            ],
            "execution_count": 21
        },
        {
            "cell_type": "markdown",
            "source": [
                "Rangsoroljuk az egyes szobákat a foglalások száma, azon belül férőhely szerint!\n",
                "\n",
                "- Holtverseny esetén a sorszámok sűrűn kövessék egymást\n",
                "- Az 1-es számot a legtöbbet foglalt, azon belül legkevesebb férőhelyű szoba kapja\n",
                "- Csak a szoba azonosítója, a férőhely és a helyezés jelenjen meg"
            ],
            "metadata": {
                "azdata_cell_guid": "73fdc306-fe1b-4cba-a7e2-19b7d9e33d3f"
            },
            "attachments": {}
        },
        {
            "cell_type": "code",
            "source": [
                "SELECT *,\r\n",
                "    RANK() OVER(PARTITION BY SUM())\r\n",
                "FROM Szallashely"
            ],
            "metadata": {
                "azdata_cell_guid": "6c193e36-3d67-4e29-b847-fc918694e857",
                "language": "sql"
            },
            "outputs": [],
            "execution_count": null
        },
        {
            "cell_type": "markdown",
            "source": [
                "Kérdezzük le az átlagosnál kevesebb főre történt foglalások adatait!\n",
                "\n",
                "a. Egy új oszlopban jelenjen meg az ügyfél neve is!\n",
                "\n",
                "b. Egy másik új oszlop mutassa meg, hogy az ügyfél előző három foglalása átlagosan hány főre történt! Az oszlop neve legyen 'Előző három foglalás átlaga'\n",
                "\n",
                "c. A listában azon vendégek is jelenjenek meg, akik még nem foglaltak!"
            ],
            "metadata": {
                "azdata_cell_guid": "184dc0b9-6128-4334-9a63-8341f8dbff9c"
            },
            "attachments": {}
        },
        {
            "cell_type": "code",
            "source": [
                "SELECT \r\n",
                "FROM Foglalas\r\n",
                "WHERE SUM(FELNOTT_SZAM, GYERMEK_SZAM)> AVG(SUM(FELNOTT_SZAM, GYERMEK_SZAM))"
            ],
            "metadata": {
                "azdata_cell_guid": "982cba0d-53a5-48c9-8fe4-fa3f64baff3f",
                "language": "sql"
            },
            "outputs": [],
            "execution_count": null
        }
    ]
}
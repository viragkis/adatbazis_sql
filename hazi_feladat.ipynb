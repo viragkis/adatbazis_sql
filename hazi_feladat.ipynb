{
    "metadata": {
        "kernelspec": {
            "name": "SQL",
            "display_name": "SQL",
            "language": "sql"
        },
        "language_info": {
            "name": "sql",
            "version": ""
        }
    },
    "nbformat_minor": 2,
    "nbformat": 4,
    "cells": [
        {
            "cell_type": "markdown",
            "source": [
                "- Válassz ki egy olyan adatbázist a bit.uni-corvinus.hu-n, amelynek tartalmához hozzáférsz\n",
                "- Az adatbázison belül válassz ki egy táblát!\n",
                "- Valósíts meg tipikus adatprofilozási lekérdezéseket a tábla legalább 2 oszlopára (min. 3 db / oszlop)!\n",
                "- Pl: NULL értékek száma, százalékos aránya, legkisebb/legnagyobb érték, kiugró értékek, min/max/átlag, értékek eloszlása stb.\n",
                "- A kapott eredményekhez diagramokat is készíthetsz\n",
                "- Az megoldást ide töltsd fel csatolva, vagy GitHub-ra a repo link megadásával (utóbbi esetben +5%)\n",
                "- A feladatot egyénileg kell megoldani!"
            ],
            "metadata": {
                "azdata_cell_guid": "f10cc44d-bf6c-4e1f-ab3f-969415a94f4f"
            },
            "attachments": {}
        },
        {
            "cell_type": "code",
            "source": [
                "SELECT TOP 5\r\n",
                "        COUNT(*) AS 'ELŐFORDULÁS(DB)'\r\n",
                "FROM Nyersanyagok\r\n",
                "GROUP BY NyersanyagNev\r\n",
                "ORDER BY COUNT(*) DESC"
            ],
            "metadata": {
                "azdata_cell_guid": "cb867b25-1bf8-460b-86a3-ded980925579",
                "language": "sql",
                "tags": []
            },
            "outputs": [
                {
                    "output_type": "display_data",
                    "data": {
                        "text/html": "(5 rows affected)"
                    },
                    "metadata": {}
                },
                {
                    "output_type": "display_data",
                    "data": {
                        "text/html": "Total execution time: 00:00:00.028"
                    },
                    "metadata": {}
                },
                {
                    "output_type": "execute_result",
                    "execution_count": 5,
                    "data": {
                        "application/vnd.dataresource+json": {
                            "schema": {
                                "fields": [
                                    {
                                        "name": "ELŐFORDULÁS(DB)"
                                    }
                                ]
                            },
                            "data": [
                                {
                                    "ELŐFORDULÁS(DB)": "18"
                                },
                                {
                                    "ELŐFORDULÁS(DB)": "4"
                                },
                                {
                                    "ELŐFORDULÁS(DB)": "3"
                                },
                                {
                                    "ELŐFORDULÁS(DB)": "3"
                                },
                                {
                                    "ELŐFORDULÁS(DB)": "3"
                                }
                            ]
                        },
                        "text/html": "<table><tr><th>ELŐFORDULÁS(DB)</th></tr><tr><td>18</td></tr><tr><td>4</td></tr><tr><td>3</td></tr><tr><td>3</td></tr><tr><td>3</td></tr></table>"
                    },
                    "metadata": {
                        "azdata_chartOptions": {
                            "type": "bar",
                            "dataDirection": "horizontal",
                            "columnsAsLabels": true,
                            "labelFirstColumn": false,
                            "legendPosition": "top"
                        }
                    }
                }
            ],
            "execution_count": 5
        },
        {
            "cell_type": "code",
            "source": [
                "SELECT COUNT(NyersanyagNev) AS 'DB'\r\n",
                "FROM Nyersanyagok\r\n",
                "WHERE NyersanyagNev IS NULL\r\n",
                "UNION\r\n",
                "SELECT COUNT(NyersanyagNev) AS 'DB'\r\n",
                "FROM Nyersanyagok\r\n",
                "WHERE NyersanyagNev IS NOT NULL\r\n",
                ""
            ],
            "metadata": {
                "azdata_cell_guid": "0834a4f5-c3b1-48df-89f1-9e54b235066c",
                "language": "sql"
            },
            "outputs": [
                {
                    "output_type": "display_data",
                    "data": {
                        "text/html": "Warning: Null value is eliminated by an aggregate or other SET operation."
                    },
                    "metadata": {}
                },
                {
                    "output_type": "display_data",
                    "data": {
                        "text/html": "(2 rows affected)"
                    },
                    "metadata": {}
                },
                {
                    "output_type": "display_data",
                    "data": {
                        "text/html": "Total execution time: 00:00:00.016"
                    },
                    "metadata": {}
                },
                {
                    "output_type": "execute_result",
                    "execution_count": 34,
                    "data": {
                        "application/vnd.dataresource+json": {
                            "schema": {
                                "fields": [
                                    {
                                        "name": "DB"
                                    }
                                ]
                            },
                            "data": [
                                {
                                    "DB": "0"
                                },
                                {
                                    "DB": "206"
                                }
                            ]
                        },
                        "text/html": "<table><tr><th>DB</th></tr><tr><td>0</td></tr><tr><td>206</td></tr></table>"
                    },
                    "metadata": {
                        "azdata_chartOptions": {
                            "type": "horizontalBar",
                            "dataDirection": "horizontal",
                            "columnsAsLabels": true,
                            "labelFirstColumn": false,
                            "legendPosition": "top",
                            "dataType": "number"
                        }
                    }
                }
            ],
            "execution_count": 34
        },
        {
            "cell_type": "code",
            "source": [
                "SELECT COUNT(DISTINCT NyersanyagNev) AS 'EGYEDI ÉRTÉKEK'\r\n",
                "FROM Nyersanyagok\r\n",
                "\r\n",
                ""
            ],
            "metadata": {
                "azdata_cell_guid": "d22fc719-4240-4ce0-bb94-2e9747abaf08",
                "language": "sql"
            },
            "outputs": [
                {
                    "output_type": "display_data",
                    "data": {
                        "text/html": "(1 row affected)"
                    },
                    "metadata": {}
                },
                {
                    "output_type": "display_data",
                    "data": {
                        "text/html": "Total execution time: 00:00:00.020"
                    },
                    "metadata": {}
                },
                {
                    "output_type": "execute_result",
                    "execution_count": 22,
                    "data": {
                        "application/vnd.dataresource+json": {
                            "schema": {
                                "fields": [
                                    {
                                        "name": "EGYEDI ÉRTÉKEK"
                                    }
                                ]
                            },
                            "data": [
                                {
                                    "EGYEDI ÉRTÉKEK": "174"
                                }
                            ]
                        },
                        "text/html": "<table><tr><th>EGYEDI ÉRTÉKEK</th></tr><tr><td>174</td></tr></table>"
                    },
                    "metadata": {}
                }
            ],
            "execution_count": 22
        },
        {
            "cell_type": "code",
            "source": [
                "SELECT MIN(NyersanyagNev) AS 'LEGRÖVIDEBB NÉV',\r\n",
                "        MAX(NyersanyagNev) AS 'LEGHOSSZABB NÉV'\r\n",
                "FROM  Nyersanyagok\r\n",
                "WHERE NyersanyagNev IS NOT NULL"
            ],
            "metadata": {
                "azdata_cell_guid": "a6ae1ad3-628b-4419-8337-43679460dd0f",
                "language": "sql"
            },
            "outputs": [
                {
                    "output_type": "display_data",
                    "data": {
                        "text/html": "(1 row affected)"
                    },
                    "metadata": {}
                },
                {
                    "output_type": "display_data",
                    "data": {
                        "text/html": "Total execution time: 00:00:00.026"
                    },
                    "metadata": {}
                },
                {
                    "output_type": "execute_result",
                    "execution_count": 23,
                    "data": {
                        "application/vnd.dataresource+json": {
                            "schema": {
                                "fields": [
                                    {
                                        "name": "LEGRÖVIDEBB NÉV"
                                    },
                                    {
                                        "name": "LEGHOSSZABB NÉV"
                                    }
                                ]
                            },
                            "data": [
                                {
                                    "LEGRÖVIDEBB NÉV": "",
                                    "LEGHOSSZABB NÉV": "zsír"
                                }
                            ]
                        },
                        "text/html": "<table><tr><th>LEGRÖVIDEBB NÉV</th><th>LEGHOSSZABB NÉV</th></tr><tr><td></td><td>zsír</td></tr></table>"
                    },
                    "metadata": {}
                }
            ],
            "execution_count": 23
        },
        {
            "cell_type": "markdown",
            "source": [
                "**II. OSZLOP**"
            ],
            "metadata": {
                "azdata_cell_guid": "2b2614b3-730e-4613-8de9-d7d3117b70fe"
            },
            "attachments": {}
        },
        {
            "cell_type": "code",
            "source": [
                "SELECT AVG(Egysegar) AS 'ÁTLAGOS ÁR',\r\n",
                "    MIN(Egysegar) AS 'MINIMUM ÁR',\r\n",
                "    MAX(Egysegar) AS 'MAXIMUM ÁR',\r\n",
                "    STDEV(Egysegar) AS 'SZÓRÁS'\r\n",
                "FROM Nyersanyagok\r\n",
                "WHERE Egysegar IS NOT NULL"
            ],
            "metadata": {
                "azdata_cell_guid": "e4205c66-37c0-4328-8764-095046acbe87",
                "language": "sql"
            },
            "outputs": [
                {
                    "output_type": "display_data",
                    "data": {
                        "text/html": "(1 row affected)"
                    },
                    "metadata": {}
                },
                {
                    "output_type": "display_data",
                    "data": {
                        "text/html": "Total execution time: 00:00:00.044"
                    },
                    "metadata": {}
                },
                {
                    "output_type": "execute_result",
                    "execution_count": 33,
                    "data": {
                        "application/vnd.dataresource+json": {
                            "schema": {
                                "fields": [
                                    {
                                        "name": "ÁTLAGOS ÁR"
                                    },
                                    {
                                        "name": "MINIMUM ÁR"
                                    },
                                    {
                                        "name": "MAXIMUM ÁR"
                                    },
                                    {
                                        "name": "SZÓRÁS"
                                    }
                                ]
                            },
                            "data": [
                                {
                                    "ÁTLAGOS ÁR": "403,2738",
                                    "MINIMUM ÁR": "0,00",
                                    "MAXIMUM ÁR": "2010,00",
                                    "SZÓRÁS": "553,3460615962744"
                                }
                            ]
                        },
                        "text/html": "<table><tr><th>ÁTLAGOS ÁR</th><th>MINIMUM ÁR</th><th>MAXIMUM ÁR</th><th>SZÓRÁS</th></tr><tr><td>403,2738</td><td>0,00</td><td>2010,00</td><td>553,3460615962744</td></tr></table>"
                    },
                    "metadata": {}
                }
            ],
            "execution_count": 33
        }
    ]
}